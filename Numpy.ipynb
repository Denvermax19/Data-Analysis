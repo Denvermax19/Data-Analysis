{
 "cells": [
  {
   "cell_type": "markdown",
   "id": "e47dab83-ad5d-4607-8d69-49bb71a3a06e",
   "metadata": {},
   "source": [
    "## Numpy Slicing"
   ]
  },
  {
   "cell_type": "code",
   "execution_count": 1,
   "id": "aac75484-2627-44cf-a987-7fd69b3d9212",
   "metadata": {},
   "outputs": [
    {
     "name": "stdout",
     "output_type": "stream",
     "text": [
      "[4 5 6]\n"
     ]
    }
   ],
   "source": [
    "import numpy as np\n",
    "\n",
    "b = np.array([[[1, 2, 3],[4, 5, 6]],\n",
    "            [[7, 8, 9],[10, 11, 12]]])\n",
    "print(b[0,1])"
   ]
  },
  {
   "cell_type": "markdown",
   "id": "716751d7-a083-4164-98dd-7ae13d07b0aa",
   "metadata": {},
   "source": [
    "### Method 1"
   ]
  },
  {
   "cell_type": "code",
   "execution_count": 10,
   "id": "baef7176-f0d1-4bbd-bc43-7b7137ee3652",
   "metadata": {},
   "outputs": [
    {
     "name": "stdout",
     "output_type": "stream",
     "text": [
      "[[ 9 10]\n",
      " [11 12]]\n"
     ]
    }
   ],
   "source": [
    "a = np.array([[[1, 9, 3],[4, 10, 6]],\n",
    "            [[7, 11, 9],[10, 12, 12]]])\n",
    "print(a[:,:,1])\n",
    "\n",
    "# Explanation of a[:, :, 1]\n",
    "# First Colon (:): Selects all blocks (the first dimension).\n",
    "# Second Colon (:): Selects all rows within those blocks (the second dimension).\n",
    "# Indexing 1: Selects the second element from each row (the third dimension)."
   ]
  },
  {
   "cell_type": "markdown",
   "id": "14da207c-2e35-4980-8e6a-4b216fb03e9a",
   "metadata": {},
   "source": [
    "### Method 2"
   ]
  },
  {
   "cell_type": "code",
   "execution_count": 11,
   "id": "1c81362c-8815-4314-be1c-8f61c1eace50",
   "metadata": {},
   "outputs": [
    {
     "name": "stdout",
     "output_type": "stream",
     "text": [
      "[[ 9 10]\n",
      " [11 12]]\n"
     ]
    }
   ],
   "source": [
    "a = np.array([[[1, 9, 3],[4, 10, 6]],\n",
    "            [[7, 11, 9],[10, 12, 12]]])\n",
    "print(a[...,1])\n",
    "\n",
    "# The ellipsis (...) is allows you to select all without specifying each one."
   ]
  },
  {
   "cell_type": "markdown",
   "id": "6c275a75-1227-4da1-9519-db3dd846a809",
   "metadata": {},
   "source": [
    "## Array Broadcasting"
   ]
  },
  {
   "cell_type": "code",
   "execution_count": 15,
   "id": "5e8f6e33-008c-4605-b863-bb47981f8179",
   "metadata": {},
   "outputs": [
    {
     "data": {
      "text/plain": [
       "array([[ 5. ,  7.5, 10. , 12.5],\n",
       "       [20. , 25. , 30. , 35. ],\n",
       "       [45. , 52.5, 60. , 67.5]])"
      ]
     },
     "execution_count": 15,
     "metadata": {},
     "output_type": "execute_result"
    }
   ],
   "source": [
    "sales_data = np.array([[100, 150, 200, 250],  \n",
    "                       [200, 250, 300, 350],  \n",
    "                       [300, 350, 400, 450]])\n",
    "\n",
    "tax_rate=np.array([[0.05],[0.10],[0.15]])\n",
    "sale_with_tax=sales_data*tax_rate\n",
    "sale_with_tax"
   ]
  },
  {
   "cell_type": "code",
   "execution_count": null,
   "id": "a48b5dae-3072-4cf7-a583-0af43615d18d",
   "metadata": {},
   "outputs": [],
   "source": []
  }
 ],
 "metadata": {
  "kernelspec": {
   "display_name": "Python [conda env:base] *",
   "language": "python",
   "name": "conda-base-py"
  },
  "language_info": {
   "codemirror_mode": {
    "name": "ipython",
    "version": 3
   },
   "file_extension": ".py",
   "mimetype": "text/x-python",
   "name": "python",
   "nbconvert_exporter": "python",
   "pygments_lexer": "ipython3",
   "version": "3.13.5"
  },
  "widgets": {
   "application/vnd.jupyter.widget-state+json": {
    "state": {},
    "version_major": 2,
    "version_minor": 0
   }
  }
 },
 "nbformat": 4,
 "nbformat_minor": 5
}
