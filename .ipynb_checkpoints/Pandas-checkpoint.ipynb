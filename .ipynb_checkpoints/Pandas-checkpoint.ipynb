{
 "cells": [
  {
   "cell_type": "markdown",
   "id": "fea1dbba-1cb1-4db7-8106-2093b5372bf7",
   "metadata": {
    "vscode": {
     "languageId": "plaintext"
    }
   },
   "source": [
    "# Pandas"
   ]
  },
  {
   "cell_type": "code",
   "execution_count": 1,
   "id": "965d1158-d8d9-498d-a30f-7a609898702c",
   "metadata": {},
   "outputs": [],
   "source": [
    "# Pandas is built on top of the NumPy library\n",
    "\n",
    "# Pandas stores the data in 2 structures:\n",
    "# 1. Series\n",
    "# 2. DataFrame"
   ]
  },
  {
   "cell_type": "markdown",
   "id": "4aa4e215-028f-40c1-a17f-b10bf6bf87fd",
   "metadata": {},
   "source": [
    "## Series\n",
    "Series is one-dimensional labelled array capable of holding data like str,int,object\n",
    "\n",
    "Series is nothing but a column in an excel sheet"
   ]
  },
  {
   "cell_type": "code",
   "execution_count": 11,
   "id": "bcc9d5a9",
   "metadata": {
    "vscode": {
     "languageId": "plaintext"
    }
   },
   "outputs": [
    {
     "name": "stdout",
     "output_type": "stream",
     "text": [
      "0    a\n",
      "1    n\n",
      "2    a\n",
      "3    n\n",
      "4    d\n",
      "dtype: object\n"
     ]
    }
   ],
   "source": [
    "import pandas as pd\n",
    "import numpy as np\n",
    "\n",
    "data=np.array(['a','n','a','n','d'])\n",
    "result=pd.Series(data)\n",
    "print(result)"
   ]
  },
  {
   "cell_type": "markdown",
   "id": "0178c917-427d-47bf-9ad9-b0689341fee1",
   "metadata": {
    "vscode": {
     "languageId": "plaintext"
    }
   },
   "source": [
    "## DataFrame"
   ]
  },
  {
   "cell_type": "code",
   "execution_count": null,
   "id": "9a24e00f-e760-4e26-8c06-6946f530819e",
   "metadata": {},
   "outputs": [],
   "source": [
    "# DataFrame is two-dimensional array with labelled axes (rows, columns)\n",
    "\n",
    "# In this data is alligned in tabular format\n",
    "\n",
    "# DataFrame main components are: 1. rows, 2. columns, 3.data"
   ]
  },
  {
   "cell_type": "markdown",
   "id": "bbadd3ab-82af-449e-b354-8071312b03e3",
   "metadata": {},
   "source": [
    "## Creating DataFrame"
   ]
  },
  {
   "cell_type": "code",
   "execution_count": 9,
   "id": "e5d8201e-8979-4db6-936d-b6376101c328",
   "metadata": {},
   "outputs": [
    {
     "name": "stdout",
     "output_type": "stream",
     "text": [
      "     Words\n",
      "0     code\n",
      "1      new\n",
      "2  project\n",
      "3      for\n",
      "4     life\n"
     ]
    }
   ],
   "source": [
    "import pandas as pd\n",
    "\n",
    "data=['code','new','project','for','life']\n",
    "df=pd.DataFrame(data, columns=['Words'])\n",
    "print(df) # or we can also use 'df.head()'"
   ]
  },
  {
   "cell_type": "markdown",
   "id": "cc602a34-ad59-4f7c-adc1-16e49b740942",
   "metadata": {},
   "source": [
    "## Creating DataFrame from CSV file"
   ]
  },
  {
   "cell_type": "code",
   "execution_count": 13,
   "id": "2f370062-f703-4d58-b8a9-62e838e879b3",
   "metadata": {},
   "outputs": [
    {
     "data": {
      "text/html": [
       "<div>\n",
       "<style scoped>\n",
       "    .dataframe tbody tr th:only-of-type {\n",
       "        vertical-align: middle;\n",
       "    }\n",
       "\n",
       "    .dataframe tbody tr th {\n",
       "        vertical-align: top;\n",
       "    }\n",
       "\n",
       "    .dataframe thead th {\n",
       "        text-align: right;\n",
       "    }\n",
       "</style>\n",
       "<table border=\"1\" class=\"dataframe\">\n",
       "  <thead>\n",
       "    <tr style=\"text-align: right;\">\n",
       "      <th></th>\n",
       "      <th>150</th>\n",
       "      <th>4</th>\n",
       "      <th>setosa</th>\n",
       "      <th>versicolor</th>\n",
       "      <th>virginica</th>\n",
       "    </tr>\n",
       "  </thead>\n",
       "  <tbody>\n",
       "    <tr>\n",
       "      <th>0</th>\n",
       "      <td>5.1</td>\n",
       "      <td>3.5</td>\n",
       "      <td>1.4</td>\n",
       "      <td>0.2</td>\n",
       "      <td>0</td>\n",
       "    </tr>\n",
       "    <tr>\n",
       "      <th>1</th>\n",
       "      <td>4.9</td>\n",
       "      <td>3.0</td>\n",
       "      <td>1.4</td>\n",
       "      <td>0.2</td>\n",
       "      <td>0</td>\n",
       "    </tr>\n",
       "    <tr>\n",
       "      <th>2</th>\n",
       "      <td>4.7</td>\n",
       "      <td>3.2</td>\n",
       "      <td>1.3</td>\n",
       "      <td>0.2</td>\n",
       "      <td>0</td>\n",
       "    </tr>\n",
       "    <tr>\n",
       "      <th>3</th>\n",
       "      <td>4.6</td>\n",
       "      <td>3.1</td>\n",
       "      <td>1.5</td>\n",
       "      <td>0.2</td>\n",
       "      <td>0</td>\n",
       "    </tr>\n",
       "    <tr>\n",
       "      <th>4</th>\n",
       "      <td>5.0</td>\n",
       "      <td>3.6</td>\n",
       "      <td>1.4</td>\n",
       "      <td>0.2</td>\n",
       "      <td>0</td>\n",
       "    </tr>\n",
       "  </tbody>\n",
       "</table>\n",
       "</div>"
      ],
      "text/plain": [
       "   150    4  setosa  versicolor  virginica\n",
       "0  5.1  3.5     1.4         0.2          0\n",
       "1  4.9  3.0     1.4         0.2          0\n",
       "2  4.7  3.2     1.3         0.2          0\n",
       "3  4.6  3.1     1.5         0.2          0\n",
       "4  5.0  3.6     1.4         0.2          0"
      ]
     },
     "execution_count": 13,
     "metadata": {},
     "output_type": "execute_result"
    }
   ],
   "source": [
    "import pandas as pd\n",
    "\n",
    "df=pd.read_csv(\"C:\\\\Users\\\\lette\\\\Data Visualization\\\\iris.csv\")\n",
    "df.head() \n",
    "# we can pass arguments like 10 or 20 for seeing that length of rows of data"
   ]
  },
  {
   "cell_type": "markdown",
   "id": "fcd3e0b6-06f0-4639-acb0-fd959b64f750",
   "metadata": {},
   "source": [
    "## Filtering DataFrame"
   ]
  },
  {
   "cell_type": "code",
   "execution_count": null,
   "id": "6e42706b-bd24-49eb-8b95-952cb293c6e8",
   "metadata": {},
   "outputs": [],
   "source": [
    "# filter() function filters rows or columns based on specifications"
   ]
  },
  {
   "cell_type": "code",
   "execution_count": 14,
   "id": "355dae41-94f5-45fc-849b-c5902debd4e4",
   "metadata": {},
   "outputs": [
    {
     "data": {
      "text/html": [
       "<div>\n",
       "<style scoped>\n",
       "    .dataframe tbody tr th:only-of-type {\n",
       "        vertical-align: middle;\n",
       "    }\n",
       "\n",
       "    .dataframe tbody tr th {\n",
       "        vertical-align: top;\n",
       "    }\n",
       "\n",
       "    .dataframe thead th {\n",
       "        text-align: right;\n",
       "    }\n",
       "</style>\n",
       "<table border=\"1\" class=\"dataframe\">\n",
       "  <thead>\n",
       "    <tr style=\"text-align: right;\">\n",
       "      <th></th>\n",
       "      <th>setosa</th>\n",
       "      <th>versicolor</th>\n",
       "      <th>virginica</th>\n",
       "    </tr>\n",
       "  </thead>\n",
       "  <tbody>\n",
       "    <tr>\n",
       "      <th>0</th>\n",
       "      <td>1.4</td>\n",
       "      <td>0.2</td>\n",
       "      <td>0</td>\n",
       "    </tr>\n",
       "    <tr>\n",
       "      <th>1</th>\n",
       "      <td>1.4</td>\n",
       "      <td>0.2</td>\n",
       "      <td>0</td>\n",
       "    </tr>\n",
       "    <tr>\n",
       "      <th>2</th>\n",
       "      <td>1.3</td>\n",
       "      <td>0.2</td>\n",
       "      <td>0</td>\n",
       "    </tr>\n",
       "    <tr>\n",
       "      <th>3</th>\n",
       "      <td>1.5</td>\n",
       "      <td>0.2</td>\n",
       "      <td>0</td>\n",
       "    </tr>\n",
       "    <tr>\n",
       "      <th>4</th>\n",
       "      <td>1.4</td>\n",
       "      <td>0.2</td>\n",
       "      <td>0</td>\n",
       "    </tr>\n",
       "  </tbody>\n",
       "</table>\n",
       "</div>"
      ],
      "text/plain": [
       "   setosa  versicolor  virginica\n",
       "0     1.4         0.2          0\n",
       "1     1.4         0.2          0\n",
       "2     1.3         0.2          0\n",
       "3     1.5         0.2          0\n",
       "4     1.4         0.2          0"
      ]
     },
     "execution_count": 14,
     "metadata": {},
     "output_type": "execute_result"
    }
   ],
   "source": [
    "df.filter(['setosa','versicolor','virginica']).head()\n",
    "\n",
    "# filter() doesn't change or modify the actual data content, its just for comfort of reading"
   ]
  },
  {
   "cell_type": "markdown",
   "id": "ffa5e4f8-8d9d-4f36-b89b-6abc1426fdb2",
   "metadata": {},
   "source": [
    "## Sorting DataFrame"
   ]
  },
  {
   "cell_type": "code",
   "execution_count": null,
   "id": "05eeceff-82f2-4f1d-8739-f934e806af66",
   "metadata": {},
   "outputs": [],
   "source": [
    "# sort_values() function sorts the data in Assending or Dissending Order"
   ]
  },
  {
   "cell_type": "code",
   "execution_count": 19,
   "id": "623fa506-27f7-41b7-8342-d8b6e6db709b",
   "metadata": {},
   "outputs": [
    {
     "data": {
      "text/html": [
       "<div>\n",
       "<style scoped>\n",
       "    .dataframe tbody tr th:only-of-type {\n",
       "        vertical-align: middle;\n",
       "    }\n",
       "\n",
       "    .dataframe tbody tr th {\n",
       "        vertical-align: top;\n",
       "    }\n",
       "\n",
       "    .dataframe thead th {\n",
       "        text-align: right;\n",
       "    }\n",
       "</style>\n",
       "<table border=\"1\" class=\"dataframe\">\n",
       "  <thead>\n",
       "    <tr style=\"text-align: right;\">\n",
       "      <th></th>\n",
       "      <th>150</th>\n",
       "      <th>4</th>\n",
       "      <th>setosa</th>\n",
       "      <th>versicolor</th>\n",
       "      <th>virginica</th>\n",
       "    </tr>\n",
       "  </thead>\n",
       "  <tbody>\n",
       "    <tr>\n",
       "      <th>22</th>\n",
       "      <td>4.6</td>\n",
       "      <td>3.6</td>\n",
       "      <td>1.0</td>\n",
       "      <td>0.2</td>\n",
       "      <td>0</td>\n",
       "    </tr>\n",
       "    <tr>\n",
       "      <th>13</th>\n",
       "      <td>4.3</td>\n",
       "      <td>3.0</td>\n",
       "      <td>1.1</td>\n",
       "      <td>0.1</td>\n",
       "      <td>0</td>\n",
       "    </tr>\n",
       "    <tr>\n",
       "      <th>14</th>\n",
       "      <td>5.8</td>\n",
       "      <td>4.0</td>\n",
       "      <td>1.2</td>\n",
       "      <td>0.2</td>\n",
       "      <td>0</td>\n",
       "    </tr>\n",
       "    <tr>\n",
       "      <th>35</th>\n",
       "      <td>5.0</td>\n",
       "      <td>3.2</td>\n",
       "      <td>1.2</td>\n",
       "      <td>0.2</td>\n",
       "      <td>0</td>\n",
       "    </tr>\n",
       "    <tr>\n",
       "      <th>16</th>\n",
       "      <td>5.4</td>\n",
       "      <td>3.9</td>\n",
       "      <td>1.3</td>\n",
       "      <td>0.4</td>\n",
       "      <td>0</td>\n",
       "    </tr>\n",
       "  </tbody>\n",
       "</table>\n",
       "</div>"
      ],
      "text/plain": [
       "    150    4  setosa  versicolor  virginica\n",
       "22  4.6  3.6     1.0         0.2          0\n",
       "13  4.3  3.0     1.1         0.1          0\n",
       "14  5.8  4.0     1.2         0.2          0\n",
       "35  5.0  3.2     1.2         0.2          0\n",
       "16  5.4  3.9     1.3         0.4          0"
      ]
     },
     "execution_count": 19,
     "metadata": {},
     "output_type": "execute_result"
    }
   ],
   "source": [
    "df.sort_values(by='setosa',ascending=True).head()\n",
    "\n",
    "# if we use \"ascending=False\" we get \"Descending Order\""
   ]
  },
  {
   "cell_type": "code",
   "execution_count": null,
   "id": "f212eab1-2a5a-4ec1-a92e-fc268be63914",
   "metadata": {},
   "outputs": [],
   "source": []
  }
 ],
 "metadata": {
  "kernelspec": {
   "display_name": "Python [conda env:base] *",
   "language": "python",
   "name": "conda-base-py"
  },
  "language_info": {
   "codemirror_mode": {
    "name": "ipython",
    "version": 3
   },
   "file_extension": ".py",
   "mimetype": "text/x-python",
   "name": "python",
   "nbconvert_exporter": "python",
   "pygments_lexer": "ipython3",
   "version": "3.13.5"
  },
  "widgets": {
   "application/vnd.jupyter.widget-state+json": {
    "state": {},
    "version_major": 2,
    "version_minor": 0
   }
  }
 },
 "nbformat": 4,
 "nbformat_minor": 5
}
